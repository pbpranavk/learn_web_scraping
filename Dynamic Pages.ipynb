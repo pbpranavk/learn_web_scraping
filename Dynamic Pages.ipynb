{
 "cells": [
  {
   "cell_type": "markdown",
   "id": "8d7047b0",
   "metadata": {},
   "source": [
    "Reference : https://github.com/MariyaSha/WebscrapingInstagram/blob/main/ImageExtracting_bot.ipynb"
   ]
  },
  {
   "cell_type": "code",
   "execution_count": 3,
   "id": "b1ebc9b0",
   "metadata": {},
   "outputs": [],
   "source": [
    "from selenium import webdriver\n",
    "from selenium.webdriver.common.keys import Keys\n",
    "from selenium.webdriver.support import expected_conditions as EC\n",
    "from selenium.webdriver.common.by import By\n",
    "from selenium.webdriver.support.wait import WebDriverWait\n",
    "import time"
   ]
  },
  {
   "cell_type": "code",
   "execution_count": null,
   "id": "26e3e6b9",
   "metadata": {},
   "outputs": [],
   "source": [
    "driver = webdriver.Firefox()\n",
    "\n",
    "driver.get(\"http://www.instagram.com\")\n",
    "\n",
    "username = WebDriverWait(driver, 10).until(EC.element_to_be_clickable((By.CSS_SELECTOR, \"input[name='username']\")))\n",
    "password = WebDriverWait(driver, 10).until(EC.element_to_be_clickable((By.CSS_SELECTOR, \"input[name='password']\")))\n",
    "\n",
    "username.clear()\n",
    "username.send_keys(\"my_username\")\n",
    "password.clear()\n",
    "password.send_keys(\"my_password\")\n",
    "\n",
    "button = WebDriverWait(driver, 2).until(EC.element_to_be_clickable((By.CSS_SELECTOR, \"button[type='submit']\"))).click()\n"
   ]
  },
  {
   "cell_type": "code",
   "execution_count": null,
   "id": "23dce832",
   "metadata": {},
   "outputs": [],
   "source": [
    "time.sleep(5)\n",
    "alert = WebDriverWait(driver, 15).until(EC.element_to_be_clickable((By.XPATH, '//button[contains(text(), \"Not Now\")]'))).click()"
   ]
  },
  {
   "cell_type": "code",
   "execution_count": null,
   "id": "960d2dd5",
   "metadata": {},
   "outputs": [],
   "source": [
    "searchbox = WebDriverWait(driver, 10).until(EC.element_to_be_clickable((By.XPATH, \"//input[@placeholder='Search']\")))\n",
    "searchbox.clear()\n",
    "\n",
    "keyword = \"#cat\"\n",
    "searchbox.send_keys(keyword)\n",
    " \n",
    "time.sleep(5)\n",
    "my_link = WebDriverWait(driver, 10).until(EC.element_to_be_clickable((By.XPATH, \"//a[contains(@href, '/\" + keyword[1:] + \"/')]\")))\n",
    "my_link.click()"
   ]
  },
  {
   "cell_type": "code",
   "execution_count": null,
   "id": "8299a1df",
   "metadata": {},
   "outputs": [],
   "source": [
    "n_scrolls = 2\n",
    "for j in range(0, n_scrolls):\n",
    "    driver.execute_script(\"window.scrollTo(0, document.body.scrollHeight);\")\n",
    "    time.sleep(5)"
   ]
  },
  {
   "cell_type": "code",
   "execution_count": null,
   "id": "9505735f",
   "metadata": {},
   "outputs": [],
   "source": [
    "anchors = driver.find_elements_by_tag_name('a')\n",
    "anchors = [a.get_attribute('href') for a in anchors]\n",
    "\n",
    "anchors = [a for a in anchors if str(a).startswith(\"https://www.instagram.com/p/\")]\n",
    "\n",
    "print('Found ' + str(len(anchors)) + ' links to images')\n",
    "anchors[:5]"
   ]
  },
  {
   "cell_type": "code",
   "execution_count": null,
   "id": "5e57131f",
   "metadata": {},
   "outputs": [],
   "source": [
    "images = []\n",
    "\n",
    "for a in anchors:\n",
    "    driver.get(a)\n",
    "    time.sleep(5)\n",
    "    img = driver.find_elements_by_tag_name('img')\n",
    "    img = [i.get_attribute('src') for i in img]\n",
    "    images.append(img[1])\n",
    "    \n",
    "images[:5]  "
   ]
  },
  {
   "cell_type": "code",
   "execution_count": null,
   "id": "ecc1825c",
   "metadata": {},
   "outputs": [],
   "source": [
    "import os\n",
    "import wget\n",
    "\n",
    "path = os.getcwd()\n",
    "path = os.path.join(path, keyword[1:] + \"s\")\n",
    "\n",
    "os.mkdir(path)\n",
    "\n",
    "path"
   ]
  },
  {
   "cell_type": "code",
   "execution_count": null,
   "id": "9405c137",
   "metadata": {},
   "outputs": [],
   "source": [
    "counter = 0\n",
    "for image in images:\n",
    "    save_as = os.path.join(path, keyword[1:] + str(counter) + '.jpg')\n",
    "    wget.download(image, save_as)\n",
    "    counter += 1"
   ]
  }
 ],
 "metadata": {
  "kernelspec": {
   "display_name": "Python 3 (ipykernel)",
   "language": "python",
   "name": "python3"
  },
  "language_info": {
   "codemirror_mode": {
    "name": "ipython",
    "version": 3
   },
   "file_extension": ".py",
   "mimetype": "text/x-python",
   "name": "python",
   "nbconvert_exporter": "python",
   "pygments_lexer": "ipython3",
   "version": "3.9.7"
  }
 },
 "nbformat": 4,
 "nbformat_minor": 5
}
